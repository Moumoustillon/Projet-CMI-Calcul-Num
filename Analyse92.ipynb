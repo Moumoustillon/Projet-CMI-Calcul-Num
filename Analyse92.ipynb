{
 "cells": [
  {
   "cell_type": "code",
   "execution_count": 1,
   "metadata": {},
   "outputs": [],
   "source": [
    "import numpy as np\n",
    "import pandas as pd\n",
    "import matplotlib.pyplot as plt \n",
    "import seaborn as sns\n",
    "from scipy import stats\n",
    "import os\n",
    "\n",
    "os.chdir(\"C:/Users/mailm/OneDrive - Université paris nanterre/Documents/CMI/L3 S1/Atelier CMI/Calcul Numérique/Projet\")"
   ]
  },
  {
   "cell_type": "markdown",
   "metadata": {},
   "source": [
    "# Election présidentielle 2022 et variables socio-démographiques dans les Hauts-de-Seine\n",
    "\n",
    "données :\n",
    "\n",
    "- données elections présidentielles 2022\n",
    "- Variables socio demographiques 92\n",
    "- Données département fr"
   ]
  },
  {
   "cell_type": "code",
   "execution_count": 2,
   "metadata": {},
   "outputs": [],
   "source": [
    "# Chargement des données\n",
    "\n",
    "pres22 = pd.read_csv(\"C:/Users/mailm/OneDrive - Université paris nanterre/Documents/CMI/L3 S1/Atelier CMI/Calcul Numérique/Projet/data/pres2022comm.csv\", dtype={'codecommune': str, 'dep': str})\n"
   ]
  }
 ],
 "metadata": {
  "kernelspec": {
   "display_name": "Python 3",
   "language": "python",
   "name": "python3"
  },
  "language_info": {
   "codemirror_mode": {
    "name": "ipython",
    "version": 3
   },
   "file_extension": ".py",
   "mimetype": "text/x-python",
   "name": "python",
   "nbconvert_exporter": "python",
   "pygments_lexer": "ipython3",
   "version": "3.11.9"
  }
 },
 "nbformat": 4,
 "nbformat_minor": 2
}
