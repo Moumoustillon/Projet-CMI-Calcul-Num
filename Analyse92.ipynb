{
 "cells": [
  {
   "cell_type": "code",
   "execution_count": 2,
   "metadata": {},
   "outputs": [],
   "source": [
    "import numpy as np\n",
    "import pandas as pd\n",
    "import matplotlib.pyplot as plt \n",
    "import seaborn as sns\n",
    "from scipy import stats\n",
    "import os\n",
    "\n",
    "os.chdir(\"../Projet-CMI-Calcul-Num\")"
   ]
  },
  {
   "cell_type": "markdown",
   "metadata": {},
   "source": [
    "# Election présidentielle 2022 et variables socio-démographiques dans les Hauts-de-Seine\n",
    "\n",
    "données :\n",
    "\n",
    "- Données des élections présidentielles françaises de 2022.\n",
    "- Variables socio demographiques par commune française\n",
    "- Variables socio démographiques par département français"
   ]
  },
  {
   "cell_type": "code",
   "execution_count": 9,
   "metadata": {},
   "outputs": [
    {
     "name": "stdout",
     "output_type": "stream",
     "text": [
      "Index(['codecommune', 'agri2022', 'indp2022', 'cadr2022', 'pint2022',\n",
      "       'empl2022', 'ouvr2022', 'chom2022', 'aind2022', 'aica2022',\n",
      "       ...\n",
      "       'propf60p2022', 'prop0142022', 'prop15392022', 'prop40592022',\n",
      "       'prop60p2022', 'perpropf2022', 'perage2022', 'perprop0142022',\n",
      "       'perprop60p2022', 'pimmigre2022'],\n",
      "      dtype='object', length=105)\n",
      "Index(['dep', 'revratio2022', 'revratioadu2022', 'revratiofoy2022',\n",
      "       'revtot2022', 'pop2022_x', 'nadult2022', 'nfoyer2022', 'revmoyfoy2022',\n",
      "       'revmoyadu2022', 'revmoy2022', 'pibhab2022', 'pib2022', 'pop2022_y',\n",
      "       'nodiph2022', 'nodipf2022', 'nodip2022', 'bach2022', 'bacf2022',\n",
      "       'bac2022', 'suph2022', 'supf2022', 'sup2022', 'pbac2022', 'psup2022',\n",
      "       'popf2022', 'poph2022', 'popf0142022', 'popf15392022', 'popf40592022',\n",
      "       'popf60p2022', 'poph0142022', 'poph15392022', 'poph40592022',\n",
      "       'poph60p2022', 'agef2022', 'ageh2022', 'age2022', 'pop2022',\n",
      "       'propf2022', 'propf0142022', 'propf15392022', 'propf40592022',\n",
      "       'propf60p2022', 'prop0142022', 'prop15392022', 'prop40592022',\n",
      "       'prop60p2022'],\n",
      "      dtype='object')\n"
     ]
    }
   ],
   "source": [
    "# Chargement des données\n",
    "\n",
    "pres22 = pd.read_csv(\"../Projet-CMI-Calcul-Num/data/pres2022comm.csv\", dtype={'codecommune': str, 'dep': str})\n",
    "socio_demo = pd.read_csv(\"../Projet-CMI-Calcul-Num/data/var_socio_demo.csv\", dtype={'codecommune': str, 'dep': str})\n",
    "socio_dep = pd.read_csv(\"../Projet-CMI-Calcul-Num/data/var_socio_dep.csv\", dtype={'codecommune': str, 'dep': str})\n",
    "\n",
    "\n",
    "print(socio_demo.columns)\n",
    "print(socio_dep.columns)\n"
   ]
  },
  {
   "cell_type": "markdown",
   "metadata": {},
   "source": [
    "### Partie 1. Statistiques descriptives sur le département"
   ]
  },
  {
   "cell_type": "code",
   "execution_count": 1,
   "metadata": {},
   "outputs": [],
   "source": [
    "# Statistiques descriptives"
   ]
  }
 ],
 "metadata": {
  "kernelspec": {
   "display_name": "Python 3",
   "language": "python",
   "name": "python3"
  },
  "language_info": {
   "codemirror_mode": {
    "name": "ipython",
    "version": 3
   },
   "file_extension": ".py",
   "mimetype": "text/x-python",
   "name": "python",
   "nbconvert_exporter": "python",
   "pygments_lexer": "ipython3",
   "version": "3.11.9"
  }
 },
 "nbformat": 4,
 "nbformat_minor": 2
}
